{
 "cells": [
  {
   "cell_type": "code",
   "execution_count": null,
   "id": "7c6b5cd7",
   "metadata": {},
   "outputs": [],
   "source": [
    "import numpy as np\n",
    "import pandas as pd"
   ]
  },
  {
   "cell_type": "code",
   "execution_count": null,
   "id": "8451e98f",
   "metadata": {},
   "outputs": [],
   "source": [
    "raw_heart_data = pd.read_csv('heart.csv')\n",
    "raw_heart_data.head()"
   ]
  },
  {
   "cell_type": "code",
   "execution_count": null,
   "id": "0dd9c925",
   "metadata": {},
   "outputs": [],
   "source": [
    "raw_o2_data = pd.read_csv('o2Saturation.csv')\n",
    "raw_o2_data.head()"
   ]
  }
 ],
 "metadata": {
  "kernelspec": {
   "display_name": "Python [conda env:.conda-py3-TF2]",
   "language": "python",
   "name": "conda-env-.conda-py3-TF2-py"
  },
  "language_info": {
   "codemirror_mode": {
    "name": "ipython",
    "version": 3
   },
   "file_extension": ".py",
   "mimetype": "text/x-python",
   "name": "python",
   "nbconvert_exporter": "python",
   "pygments_lexer": "ipython3",
   "version": "3.8.11"
  }
 },
 "nbformat": 4,
 "nbformat_minor": 5
}
